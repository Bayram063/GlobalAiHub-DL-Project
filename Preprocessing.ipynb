{
  "cells": [
    {
      "cell_type": "code",
      "execution_count": 1,
      "metadata": {
        "colab": {
          "base_uri": "https://localhost:8080/"
        },
        "id": "VobthrfW-2i_",
        "outputId": "0127fb50-c250-4333-b532-c6808ea0d360"
      },
      "outputs": [
        {
          "output_type": "stream",
          "name": "stdout",
          "text": [
            "Mounted at /content/gdrive\n"
          ]
        }
      ],
      "source": [
        "from google.colab import drive\n",
        "drive.mount('/content/gdrive')"
      ]
    },
    {
      "cell_type": "code",
      "execution_count": 2,
      "metadata": {
        "colab": {
          "base_uri": "https://localhost:8080/"
        },
        "id": "MIimYFwuH-qm",
        "outputId": "737a51a0-0e2f-4c36-c48a-0aae98a05a55"
      },
      "outputs": [
        {
          "output_type": "stream",
          "name": "stdout",
          "text": [
            "['9', '4', '0', '7', '2', '6', '1', '3', '5', '8']\n"
          ]
        }
      ],
      "source": [
        "import os\n",
        "spectrogram_path = \"/content/gdrive/MyDrive/spectrograms\"\n",
        "print(os.listdir(spectrogram_path))"
      ]
    },
    {
      "cell_type": "code",
      "execution_count": 3,
      "metadata": {
        "id": "4o7MShZCH_PG"
      },
      "outputs": [],
      "source": [
        "\n",
        "#Görüntüleri (spectrogramları) sırasıyla okuyarak, grayscale dönüşümü, resizing ve normalizasyon yapılması.\n",
        "import cv2\n",
        "import tensorflow as tf\n",
        "import numpy as np\n",
        "from sklearn.model_selection import train_test_split\n",
        "\n",
        "input_size = 128\n",
        "color_mode = \"grayscale\"\n",
        "images = []\n",
        "labels = []\n",
        "for root, dirs, files in os.walk(spectrogram_path):\n",
        "   for name in files:\n",
        "      img_path = os.path.join(root, name)\n",
        "      class_name = os.path.basename(root)\n",
        "      image = tf.keras.preprocessing.image.load_img(img_path,color_mode=color_mode,target_size=(input_size,input_size))\n",
        "      image = np.expand_dims(image,axis=-1)\n",
        "      image = np.array(image)\n",
        "      images.append(image)\n",
        "      labels.append(int(class_name))\n",
        "images = np.array(images)\n",
        "labels = np.array(labels)\n",
        "X_train,X_test,Y_train,Y_test = train_test_split(images,labels,test_size=0.2,random_state=42)\n",
        "# X_train, val_X, Y_train, val_y = train_test_split(X_train, Y_train, test_size = 0.2)\n",
        "\n"
      ]
    },
    {
      "cell_type": "code",
      "source": [
        "import pandas as pd\n",
        "X_test_arr = np.zeros((X_train.flatten().shape))\n",
        "X_test_arr[:X_test.flatten().shape[0]] = X_test.flatten()\n",
        "\n",
        "Y_train_arr = np.zeros((X_train.flatten().shape))\n",
        "Y_train_arr[:Y_train.flatten().shape[0]] = Y_train.flatten()\n",
        "\n",
        "Y_test_arr = np.zeros((X_train.flatten().shape))\n",
        "Y_test_arr[:Y_test.flatten().shape[0]] = Y_test.flatten()\n",
        "split_data = {'X_train':X_train.flatten(),\n",
        "  'X_test': X_test_arr,\n",
        "  'Y_train': Y_train_arr,\n",
        "  'Y_test': Y_test_arr,\n",
        "  }\n",
        "df = pd.DataFrame(split_data)\n",
        "df.to_csv(\"/content/gdrive/MyDrive/data.csv\")\n"
      ],
      "metadata": {
        "id": "1-yxgmR8fBIP"
      },
      "execution_count": 4,
      "outputs": []
    },
    {
      "cell_type": "code",
      "source": [
        "# Y_train_arr.shape\n",
        "Y_train.shape"
      ],
      "metadata": {
        "colab": {
          "base_uri": "https://localhost:8080/"
        },
        "id": "Ld58_Ut6yX6D",
        "outputId": "99abb84a-d7ad-4383-b60d-b8f8b86de151"
      },
      "execution_count": 5,
      "outputs": [
        {
          "output_type": "execute_result",
          "data": {
            "text/plain": [
              "(6985,)"
            ]
          },
          "metadata": {},
          "execution_count": 5
        }
      ]
    }
  ],
  "metadata": {
    "colab": {
      "collapsed_sections": [],
      "provenance": []
    },
    "kernelspec": {
      "display_name": "Python 3",
      "name": "python3"
    },
    "language_info": {
      "name": "python"
    },
    "accelerator": "GPU"
  },
  "nbformat": 4,
  "nbformat_minor": 0
}